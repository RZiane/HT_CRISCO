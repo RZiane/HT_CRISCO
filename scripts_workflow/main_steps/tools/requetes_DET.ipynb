{
 "cells": [
  {
   "cell_type": "code",
   "execution_count": 4,
   "id": "99e9903c",
   "metadata": {},
   "outputs": [],
   "source": [
    "from lxml import etree"
   ]
  },
  {
   "cell_type": "code",
   "execution_count": 5,
   "id": "caeac1da",
   "metadata": {},
   "outputs": [],
   "source": [
    "\n",
    "path_in = \"/home/ziane212/Téléchargements/1487_Cronicque_convTags_01-03-23_ambi_RevNR.xml\"                  \n",
    "\n",
    "path_out = \"/home/ziane212/Téléchargements/1487_Cronicque_convTags_01-03-23_ambi_RevNR_test.xml\""
   ]
  },
  {
   "cell_type": "code",
   "execution_count": 7,
   "id": "640fcceb",
   "metadata": {},
   "outputs": [],
   "source": [
    "tree = etree.parse(open(path_in, encoding='utf-8'))\n",
    "tree_tokenized = tree.getroot()\n",
    "\n",
    "test_ = []\n",
    "l_numSG = []\n",
    "\n",
    "for id_, s in enumerate(tree_tokenized.findall('.//s')):\n",
    "    \n",
    "    for w in s.findall('.//w'):\n",
    "        \n",
    "        if w.get('udpos') ==  'NOUN' and w.get('function') ==  'nsubj':\n",
    "            id_gov = w.get('n')\n",
    "            \n",
    "            for w2 in tree_tokenized.findall('.//s')[id_]:\n",
    "                \n",
    "                id_dep = w2.get('n')\n",
    "                \n",
    "                var = False\n",
    "                \n",
    "                if w2.get('head') == id_gov and w2.get('udpos') == 'det':\n",
    "                    \n",
    "                    var = True\n",
    "                                \n",
    "                if var == False:\n",
    "                    \n",
    "                        \n",
    "                \n",
    "               "
   ]
  },
  {
   "cell_type": "code",
   "execution_count": 8,
   "id": "be4be208",
   "metadata": {},
   "outputs": [],
   "source": [
    "def indent(elem, level=0, more_sibs=False):\n",
    "    i = \"\\n\"\n",
    "    if level:\n",
    "        i += (level-1) * '\\t'\n",
    "    num_kids = len(elem)\n",
    "    if num_kids:\n",
    "        if not elem.text or not elem.text.strip():\n",
    "            elem.text = i + \"\\t\"\n",
    "            if level:\n",
    "                elem.text += '\\t'\n",
    "        count = 0\n",
    "        for kid in elem:\n",
    "            indent(kid, level+1, count < num_kids - 1)\n",
    "            count += 1\n",
    "        if not elem.tail or not elem.tail.strip():\n",
    "            elem.tail = i\n",
    "            if more_sibs:\n",
    "                elem.tail += '\\t'\n",
    "    else:\n",
    "        if level and (not elem.tail or not elem.tail.strip()):\n",
    "            elem.tail = i\n",
    "            if more_sibs:\n",
    "                elem.tail += '\\t'"
   ]
  },
  {
   "cell_type": "code",
   "execution_count": 9,
   "id": "60f4f13b",
   "metadata": {},
   "outputs": [],
   "source": [
    "indent(tree_tokenized)\n",
    "#etree.dump(new_root)\n",
    "etree.ElementTree(tree_tokenized).write(path_out, encoding='utf-8')"
   ]
  },
  {
   "cell_type": "code",
   "execution_count": null,
   "id": "d3601ea4",
   "metadata": {},
   "outputs": [],
   "source": []
  }
 ],
 "metadata": {
  "kernelspec": {
   "display_name": "Python 3 (ipykernel)",
   "language": "python",
   "name": "python3"
  },
  "language_info": {
   "codemirror_mode": {
    "name": "ipython",
    "version": 3
   },
   "file_extension": ".py",
   "mimetype": "text/x-python",
   "name": "python",
   "nbconvert_exporter": "python",
   "pygments_lexer": "ipython3",
   "version": "3.9.12"
  }
 },
 "nbformat": 4,
 "nbformat_minor": 5
}
