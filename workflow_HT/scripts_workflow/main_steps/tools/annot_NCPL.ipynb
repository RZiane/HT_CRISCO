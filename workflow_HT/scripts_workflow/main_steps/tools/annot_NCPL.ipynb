{
 "cells": [
  {
   "cell_type": "code",
   "execution_count": 1,
   "id": "99e9903c",
   "metadata": {},
   "outputs": [],
   "source": [
    "from lxml import etree"
   ]
  },
  {
   "cell_type": "code",
   "execution_count": 2,
   "id": "caeac1da",
   "metadata": {},
   "outputs": [],
   "source": [
    "\n",
    "path_in = r\"C:\\Users\\yagam\\Downloads\\1373_ChroniqueNormande_convTags_ambi_17.03.23.xml\"                  \n",
    "\n",
    "path_out = r\"C:\\Users\\yagam\\Downloads\\1373_ChroniqueNormande_convTags_ambi_17.03.23.xml\""
   ]
  },
  {
   "cell_type": "markdown",
   "id": "00d921dd",
   "metadata": {},
   "source": [
    "def check_coherence(l, prpos, uppos, udpos):\n",
    "    \n",
    "    global incoherence\n",
    "    \n",
    "    if udpos == 'PUNCT' or udpos == 'PROPN':\n",
    "        pass\n",
    "    elif (prpos, uppos, udpos) not in l:\n",
    "        if udpos == 'VERB':\n",
    "            if (prpos, uppos, 'AUX') not in l:\n",
    "                incoherence = True\n",
    "        elif udpos == 'AUX':\n",
    "            if (prpos, uppos, 'VERB') not in l:\n",
    "                incoherence = True\n",
    "        else:\n",
    "            incoherence = True\n",
    "    \n",
    "    return incoherence\n",
    "\n",
    "CorrTable = open(path_corrTable, encoding='utf-8')\n",
    "l = []\n",
    "for i in CorrTable:\n",
    "    i = i.split(\",\")\n",
    "    l.append((i[2], i[3], i[4]))\n",
    "\n",
    "l.append(('','_', '_'))\n",
    "l.append((None,None,None))\n",
    "\n",
    "CorrTable.close()"
   ]
  },
  {
   "cell_type": "code",
   "execution_count": 3,
   "id": "640fcceb",
   "metadata": {},
   "outputs": [],
   "source": [
    "tree = etree.parse(open(path_in, encoding='utf-8'))\n",
    "tree_tokenized = tree.getroot()\n",
    "\n",
    "test_ = []\n",
    "l_numSG = []\n",
    "\n",
    "for id_, s in enumerate(tree_tokenized.findall('.//s')):\n",
    "    \n",
    "    for w in s.findall('.//w'):\n",
    "        \n",
    "        if w.get('uppos') ==  'NCS':\n",
    "            id_w = w.get('n')\n",
    "            \n",
    "            for w2 in tree_tokenized.findall('.//s')[id_]:\n",
    "                \n",
    "                if w2.get('head') == id_w and w2.get('function') == 'nummod':\n",
    "                    \n",
    "                    if w.text in l_numSG:\n",
    "                        pass\n",
    "                    else:\n",
    "                        w.set('uppos', 'NCPL')\n",
    "                        w.set('annot_NCPL', \"nummod\")\n",
    "                \n",
    "                if w2.get('head') == id_w and (w2.text.endswith('s') or w2.text.endswith('z') or w2.text.endswith('x')) and w2.get('udpos')=='DET':\n",
    "                    w.set('uppos', 'NCPL')\n",
    "                    w.set('annot_NCPL', 'DET_s')\n",
    "                                    \n",
    "                            "
   ]
  },
  {
   "cell_type": "code",
   "execution_count": 4,
   "id": "be4be208",
   "metadata": {},
   "outputs": [],
   "source": [
    "def indent(elem, level=0, more_sibs=False):\n",
    "    i = \"\\n\"\n",
    "    if level:\n",
    "        i += (level-1) * '\\t'\n",
    "    num_kids = len(elem)\n",
    "    if num_kids:\n",
    "        if not elem.text or not elem.text.strip():\n",
    "            elem.text = i + \"\\t\"\n",
    "            if level:\n",
    "                elem.text += '\\t'\n",
    "        count = 0\n",
    "        for kid in elem:\n",
    "            indent(kid, level+1, count < num_kids - 1)\n",
    "            count += 1\n",
    "        if not elem.tail or not elem.tail.strip():\n",
    "            elem.tail = i\n",
    "            if more_sibs:\n",
    "                elem.tail += '\\t'\n",
    "    else:\n",
    "        if level and (not elem.tail or not elem.tail.strip()):\n",
    "            elem.tail = i\n",
    "            if more_sibs:\n",
    "                elem.tail += '\\t'"
   ]
  },
  {
   "cell_type": "code",
   "execution_count": 5,
   "id": "60f4f13b",
   "metadata": {},
   "outputs": [],
   "source": [
    "indent(tree_tokenized)\n",
    "#etree.dump(new_root)\n",
    "etree.ElementTree(tree_tokenized).write(path_out, encoding='utf-8')"
   ]
  },
  {
   "cell_type": "code",
   "execution_count": null,
   "id": "d3601ea4",
   "metadata": {},
   "outputs": [],
   "source": []
  }
 ],
 "metadata": {
  "kernelspec": {
   "display_name": "Python 3 (ipykernel)",
   "language": "python",
   "name": "python3"
  },
  "language_info": {
   "codemirror_mode": {
    "name": "ipython",
    "version": 3
   },
   "file_extension": ".py",
   "mimetype": "text/x-python",
   "name": "python",
   "nbconvert_exporter": "python",
   "pygments_lexer": "ipython3",
   "version": "3.9.16"
  }
 },
 "nbformat": 4,
 "nbformat_minor": 5
}
