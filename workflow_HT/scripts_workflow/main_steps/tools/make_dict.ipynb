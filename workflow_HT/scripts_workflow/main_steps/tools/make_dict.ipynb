{
 "cells": [
  {
   "cell_type": "code",
   "execution_count": 1,
   "id": "a4cb1fc1",
   "metadata": {},
   "outputs": [],
   "source": [
    "from lxml import etree"
   ]
  },
  {
   "cell_type": "code",
   "execution_count": 2,
   "id": "b05e21c1",
   "metadata": {},
   "outputs": [],
   "source": [
    "path_xml = r'C:\\Users\\yagam\\Downloads\\1373_ChroniqueNormande_convTags_ambi_17.03.23.xml'\n",
    "path_dict = r'C:\\Users\\yagam\\Desktop\\crisco_ressources\\test_dict.txt'"
   ]
  },
  {
   "cell_type": "code",
   "execution_count": 3,
   "id": "c70c1bf1",
   "metadata": {},
   "outputs": [],
   "source": [
    "def extract_dict(path_xml):\n",
    "    l_dict = []\n",
    "    \n",
    "    tree = etree.parse(open(path_xml, encoding='utf-8'))\n",
    "\n",
    "    for token in tree.findall('.//w'):\n",
    "\n",
    "        if len(list(token))==0:\n",
    "            form = token.text.replace('\\t', '')\n",
    "        else:\n",
    "            if list(token)[0].tag == 'choice':\n",
    "                form = list(token)[0][1].text.replace('\\t', '')\n",
    "\n",
    "        lemma = token.get('lemma')\n",
    "        UPOS = token.get('udpos')\n",
    "        UPENN_POS = token.get('uppos')\n",
    "        PRESTO_POS = token.get('prpos')\n",
    "\n",
    "        l_dict.append(form+'/'+PRESTO_POS+'/'+UPENN_POS)\n",
    "\n",
    "    l_dict = list(sorted(set(l_dict)))\n",
    "    \n",
    "    return l_dict\n",
    "\n",
    "l_dict = extract_dict(path_xml)"
   ]
  },
  {
   "cell_type": "code",
   "execution_count": 12,
   "id": "44417503",
   "metadata": {},
   "outputs": [
    {
     "ename": "TypeError",
     "evalue": "argument of type 'builtin_function_or_method' is not iterable",
     "output_type": "error",
     "traceback": [
      "\u001b[1;31m---------------------------------------------------------------------------\u001b[0m",
      "\u001b[1;31mTypeError\u001b[0m                                 Traceback (most recent call last)",
      "Cell \u001b[1;32mIn[12], line 4\u001b[0m\n\u001b[0;32m      1\u001b[0m \u001b[38;5;28;01mwith\u001b[39;00m \u001b[38;5;28mopen\u001b[39m(path_dict, \u001b[38;5;124m'\u001b[39m\u001b[38;5;124ma+\u001b[39m\u001b[38;5;124m'\u001b[39m, encoding\u001b[38;5;241m=\u001b[39m\u001b[38;5;124m\"\u001b[39m\u001b[38;5;124mutf-8\u001b[39m\u001b[38;5;124m\"\u001b[39m) \u001b[38;5;28;01mas\u001b[39;00m d_dict:\n\u001b[0;32m      3\u001b[0m     \u001b[38;5;28;01mfor\u001b[39;00m i \u001b[38;5;129;01min\u001b[39;00m l_dict:\n\u001b[1;32m----> 4\u001b[0m         \u001b[38;5;28;01mif\u001b[39;00m \u001b[43mi\u001b[49m\u001b[43m \u001b[49m\u001b[38;5;129;43;01mnot\u001b[39;49;00m\u001b[43m \u001b[49m\u001b[38;5;129;43;01min\u001b[39;49;00m\u001b[43m \u001b[49m\u001b[43md_dict\u001b[49m\u001b[38;5;241;43m.\u001b[39;49m\u001b[43mreadlines\u001b[49m:\n\u001b[0;32m      5\u001b[0m             d_dict\u001b[38;5;241m.\u001b[39mwrite(i\u001b[38;5;241m+\u001b[39m\u001b[38;5;124m'\u001b[39m\u001b[38;5;130;01m\\n\u001b[39;00m\u001b[38;5;124m'\u001b[39m)\n",
      "\u001b[1;31mTypeError\u001b[0m: argument of type 'builtin_function_or_method' is not iterable"
     ]
    }
   ],
   "source": [
    "with open(path_dict, 'a+', encoding=\"utf-8\") as d_dict:\n",
    "\n",
    "    for i in l_dict:\n",
    "        if i not in d_dict.readlines():\n",
    "            d_dict.write(i+'\\n')"
   ]
  },
  {
   "cell_type": "code",
   "execution_count": 11,
   "id": "806ead95",
   "metadata": {},
   "outputs": [
    {
     "data": {
      "text/plain": [
       "<function TextIOWrapper.readlines(hint=-1, /)>"
      ]
     },
     "execution_count": 11,
     "metadata": {},
     "output_type": "execute_result"
    }
   ],
   "source": [
    "d_dict.readlines"
   ]
  },
  {
   "cell_type": "code",
   "execution_count": null,
   "id": "be76046a",
   "metadata": {},
   "outputs": [],
   "source": []
  }
 ],
 "metadata": {
  "kernelspec": {
   "display_name": "Python 3 (ipykernel)",
   "language": "python",
   "name": "python3"
  },
  "language_info": {
   "codemirror_mode": {
    "name": "ipython",
    "version": 3
   },
   "file_extension": ".py",
   "mimetype": "text/x-python",
   "name": "python",
   "nbconvert_exporter": "python",
   "pygments_lexer": "ipython3",
   "version": "3.9.16"
  }
 },
 "nbformat": 4,
 "nbformat_minor": 5
}
