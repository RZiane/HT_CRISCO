{
 "cells": [
  {
   "cell_type": "code",
   "execution_count": 8,
   "id": "3d79a35f",
   "metadata": {},
   "outputs": [],
   "source": [
    "from lxml import etree as ET\n",
    "import os"
   ]
  },
  {
   "cell_type": "code",
   "execution_count": 9,
   "id": "d4a0a5c8",
   "metadata": {},
   "outputs": [],
   "source": [
    "path = '/home/ziane212/projects/Gascon/1468_Livre_noir_de_Dax/x/'\n"
   ]
  },
  {
   "cell_type": "code",
   "execution_count": 10,
   "id": "e2956e4b",
   "metadata": {
    "scrolled": true
   },
   "outputs": [],
   "source": [
    "def get_word_form(w):\n",
    "     # lecture des tokens\n",
    "    if len(list(w))!=0:\n",
    "        if list(w)[0].tag == 'choice':\n",
    "            s_token = list(w)[0][1].text\n",
    "        else:\n",
    "            s_token = ''\n",
    "            for child in w.iter():\n",
    "                if child.text:\n",
    "                    s_token += child.text\n",
    "                if child.tail:\n",
    "                    s_token += child.tail\n",
    "    else:\n",
    "        s_token = w.text\n",
    "    \n",
    "    s_token = s_token.replace('\\t', '').replace('\\n', '')\n",
    "\n",
    "    return s_token"
   ]
  },
  {
   "cell_type": "code",
   "execution_count": 11,
   "id": "e10fdf63",
   "metadata": {},
   "outputs": [
    {
     "name": "stdout",
     "output_type": "stream",
     "text": [
      "1468_Livre_noir_de_Dax_pp.31-177_segTok.22.11.23.xml\n",
      "out\n"
     ]
    },
    {
     "ename": "IsADirectoryError",
     "evalue": "[Errno 21] Is a directory: '/home/ziane212/projects/Gascon/1468_Livre_noir_de_Dax/x//out'",
     "output_type": "error",
     "traceback": [
      "\u001b[0;31m---------------------------------------------------------------------------\u001b[0m",
      "\u001b[0;31mIsADirectoryError\u001b[0m                         Traceback (most recent call last)",
      "Cell \u001b[0;32mIn[11], line 3\u001b[0m\n\u001b[1;32m      1\u001b[0m \u001b[39mfor\u001b[39;00m file \u001b[39min\u001b[39;00m os\u001b[39m.\u001b[39mlistdir(path):\n\u001b[1;32m      2\u001b[0m     \u001b[39mprint\u001b[39m(file)\n\u001b[0;32m----> 3\u001b[0m     tree \u001b[39m=\u001b[39m ET\u001b[39m.\u001b[39mparse(\u001b[39mopen\u001b[39;49m(path\u001b[39m+\u001b[39;49m\u001b[39m'\u001b[39;49m\u001b[39m/\u001b[39;49m\u001b[39m'\u001b[39;49m\u001b[39m+\u001b[39;49mfile, encoding\u001b[39m=\u001b[39;49m\u001b[39m\"\u001b[39;49m\u001b[39mutf-8\u001b[39;49m\u001b[39m\"\u001b[39;49m))\n\u001b[1;32m      4\u001b[0m     root \u001b[39m=\u001b[39m tree\u001b[39m.\u001b[39mgetroot()\n\u001b[1;32m      6\u001b[0m     list_ \u001b[39m=\u001b[39m []\n",
      "File \u001b[0;32m~/anaconda3/lib/python3.10/site-packages/IPython/core/interactiveshell.py:282\u001b[0m, in \u001b[0;36m_modified_open\u001b[0;34m(file, *args, **kwargs)\u001b[0m\n\u001b[1;32m    275\u001b[0m \u001b[39mif\u001b[39;00m file \u001b[39min\u001b[39;00m {\u001b[39m0\u001b[39m, \u001b[39m1\u001b[39m, \u001b[39m2\u001b[39m}:\n\u001b[1;32m    276\u001b[0m     \u001b[39mraise\u001b[39;00m \u001b[39mValueError\u001b[39;00m(\n\u001b[1;32m    277\u001b[0m         \u001b[39mf\u001b[39m\u001b[39m\"\u001b[39m\u001b[39mIPython won\u001b[39m\u001b[39m'\u001b[39m\u001b[39mt let you open fd=\u001b[39m\u001b[39m{\u001b[39;00mfile\u001b[39m}\u001b[39;00m\u001b[39m by default \u001b[39m\u001b[39m\"\u001b[39m\n\u001b[1;32m    278\u001b[0m         \u001b[39m\"\u001b[39m\u001b[39mas it is likely to crash IPython. If you know what you are doing, \u001b[39m\u001b[39m\"\u001b[39m\n\u001b[1;32m    279\u001b[0m         \u001b[39m\"\u001b[39m\u001b[39myou can use builtins\u001b[39m\u001b[39m'\u001b[39m\u001b[39m open.\u001b[39m\u001b[39m\"\u001b[39m\n\u001b[1;32m    280\u001b[0m     )\n\u001b[0;32m--> 282\u001b[0m \u001b[39mreturn\u001b[39;00m io_open(file, \u001b[39m*\u001b[39;49margs, \u001b[39m*\u001b[39;49m\u001b[39m*\u001b[39;49mkwargs)\n",
      "\u001b[0;31mIsADirectoryError\u001b[0m: [Errno 21] Is a directory: '/home/ziane212/projects/Gascon/1468_Livre_noir_de_Dax/x//out'"
     ]
    }
   ],
   "source": [
    "for file in os.listdir(path):\n",
    "    print(file)\n",
    "    tree = ET.parse(open(path+'/'+file, encoding=\"utf-8\"))\n",
    "    root = tree.getroot()\n",
    "\n",
    "    list_ = []\n",
    "    list_.append(['', 0])\n",
    "\n",
    "    for id_, token in enumerate(root.findall('.//w')):\n",
    "        \n",
    "        #dev print(token.text)\n",
    "        form = get_word_form(token)\n",
    "        \n",
    "        if token.get('udpos') == 'PUNCT' and (form == '.' or form == ',' or form == ';' or form == '…'):\n",
    "            token.set('join', 'left')\n",
    "\n",
    "        if form.endswith(\"'\"):\n",
    "            root.findall('.//w')[id_+1].set('join', 'left')\n",
    "\n",
    "        # if token.get('lemma') == 'comme' or token.get('lemma') == 'comment' or token.get('lemma') == 'pourquoi' or token.get('lemma') == 'quand':\n",
    "        #     token.set('uppos', 'WH')\n",
    "\n",
    "    # ET.ElementTree(root).write(path_out, encoding=\"utf-8\")\n",
    "    ET.ElementTree(root).write(path+'/out/'+file, encoding=\"utf-8\")\n"
   ]
  },
  {
   "cell_type": "code",
   "execution_count": null,
   "id": "898b56e5",
   "metadata": {},
   "outputs": [],
   "source": []
  },
  {
   "cell_type": "code",
   "execution_count": null,
   "id": "688dd66c",
   "metadata": {},
   "outputs": [],
   "source": []
  }
 ],
 "metadata": {
  "kernelspec": {
   "display_name": "Python 3 (ipykernel)",
   "language": "python",
   "name": "python3"
  },
  "language_info": {
   "codemirror_mode": {
    "name": "ipython",
    "version": 3
   },
   "file_extension": ".py",
   "mimetype": "text/x-python",
   "name": "python",
   "nbconvert_exporter": "python",
   "pygments_lexer": "ipython3",
   "version": "3.10.9"
  }
 },
 "nbformat": 4,
 "nbformat_minor": 5
}
