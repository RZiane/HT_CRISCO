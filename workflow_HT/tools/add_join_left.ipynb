{
 "cells": [
  {
   "cell_type": "code",
   "execution_count": 1,
   "id": "3d79a35f",
   "metadata": {},
   "outputs": [],
   "source": [
    "from lxml import etree as ET\n",
    "import os"
   ]
  },
  {
   "cell_type": "code",
   "execution_count": 2,
   "id": "d4a0a5c8",
   "metadata": {},
   "outputs": [],
   "source": [
    "path = '/home/ziane212/Téléchargements/Corpus_H-T_pour_Lyon'\n"
   ]
  },
  {
   "cell_type": "code",
   "execution_count": 3,
   "id": "e2956e4b",
   "metadata": {
    "scrolled": true
   },
   "outputs": [],
   "source": [
    "def get_word_form(w):\n",
    "     # lecture des tokens\n",
    "    if len(list(w))!=0:\n",
    "        if list(w)[0].tag == 'choice':\n",
    "            s_token = list(w)[0][1].text\n",
    "        else:\n",
    "            s_token = ''\n",
    "            for child in w.iter():\n",
    "                if child.text:\n",
    "                    s_token += child.text\n",
    "                if child.tail:\n",
    "                    s_token += child.tail\n",
    "    else:\n",
    "        s_token = w.text\n",
    "    \n",
    "    s_token = s_token.replace('\\t', '').replace('\\n', '')\n",
    "\n",
    "    return s_token"
   ]
  },
  {
   "cell_type": "code",
   "execution_count": 7,
   "id": "e10fdf63",
   "metadata": {},
   "outputs": [
    {
     "name": "stdout",
     "output_type": "stream",
     "text": [
      "1190_kings_england.xml\n",
      "1373_ChroniqueNormande.xml\n",
      "13e_Histoire_ducs.xml\n",
      "1487_cronicque.xml\n",
      "1665_Abrege.xml\n",
      "1766_Essai_sur_lhistoire_de_Normandie.xml\n"
     ]
    }
   ],
   "source": [
    "for file in os.listdir(path):\n",
    "    print(file)\n",
    "    tree = ET.parse(open(path+'/'+file, encoding=\"utf-8\"))\n",
    "    root = tree.getroot()\n",
    "\n",
    "    list_ = []\n",
    "    list_.append(['', 0])\n",
    "\n",
    "    for id_, token in enumerate(root.findall('.//w')):\n",
    "        \n",
    "        #dev print(token.text)\n",
    "        form = get_word_form(token)\n",
    "        \n",
    "        if token.get('udpos') == 'PUNCT' and (form == '.' or form == ',' or form == ';' or form == '…'):\n",
    "            token.set('join', 'left')\n",
    "\n",
    "        if form.endswith(\"'\"):\n",
    "            root.findall('.//w')[id_+1].set('join', 'left')\n",
    "\n",
    "        # if token.get('lemma') == 'comme' or token.get('lemma') == 'comment' or token.get('lemma') == 'pourquoi' or token.get('lemma') == 'quand':\n",
    "        #     token.set('uppos', 'WH')\n",
    "\n",
    "    # ET.ElementTree(root).write(path_out, encoding=\"utf-8\")\n",
    "    ET.ElementTree(root).write(path+'/out/'+file, encoding=\"utf-8\")\n"
   ]
  },
  {
   "cell_type": "code",
   "execution_count": null,
   "id": "898b56e5",
   "metadata": {},
   "outputs": [],
   "source": []
  },
  {
   "cell_type": "code",
   "execution_count": null,
   "id": "688dd66c",
   "metadata": {},
   "outputs": [],
   "source": []
  }
 ],
 "metadata": {
  "kernelspec": {
   "display_name": "Python 3 (ipykernel)",
   "language": "python",
   "name": "python3"
  },
  "language_info": {
   "codemirror_mode": {
    "name": "ipython",
    "version": 3
   },
   "file_extension": ".py",
   "mimetype": "text/x-python",
   "name": "python",
   "nbconvert_exporter": "python",
   "pygments_lexer": "ipython3",
   "version": "3.10.9"
  }
 },
 "nbformat": 4,
 "nbformat_minor": 5
}
