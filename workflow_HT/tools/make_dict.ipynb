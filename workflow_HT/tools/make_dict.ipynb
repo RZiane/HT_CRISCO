{
 "cells": [
  {
   "cell_type": "code",
   "execution_count": 1,
   "id": "a4cb1fc1",
   "metadata": {},
   "outputs": [],
   "source": [
    "from lxml import etree\n",
    "from utils import get_word_form\n"
   ]
  },
  {
   "cell_type": "code",
   "execution_count": 2,
   "id": "6f2fb2cf",
   "metadata": {},
   "outputs": [],
   "source": [
    "list_upos = [(\"ADJ\", \"ADJ\"),\n",
    "             (\"ADP\", \"PREP\"),\n",
    "             (\"PUNCT\", \"PUNC\"),\n",
    "             (\"ADV\", \"ADV\"),\n",
    "             (\"SYM\"),\n",
    "             (\"INTJ\", \"INT\"),\n",
    "             (\"CCONJ\", \"CON\"),\n",
    "             (\"X\", \"RES\"),\n",
    "             (\"NOUN\", \"NOM\"),\n",
    "             (\"DET\", \"DET\"),\n",
    "             (\"PROPN\", \"NOMP\"),\n",
    "             (\"NUM\", \"NUM\"),\n",
    "             (\"PART\"),\n",
    "             (\"PRON\", \"PRO\"),\n",
    "             (\"SCONJ\", \"CON\")]"
   ]
  },
  {
   "cell_type": "code",
   "execution_count": 3,
   "id": "c70c1bf1",
   "metadata": {},
   "outputs": [],
   "source": [
    "def extract_dict(inputfile, outputfile):\n",
    "    l_dict = []\n",
    "    \n",
    "    lines_set = set()\n",
    "    \n",
    "    tree = etree.parse(open(inputfile, encoding='utf-8'))\n",
    "\n",
    "    for token in tree.findall('.//w'):\n",
    "\n",
    "        form = get_word_form(token)\n",
    "        \n",
    "        lemma = token.get('lemma')\n",
    "        UPOS = token.get('udpos')\n",
    "        UPENN_POS = token.get('uppos')\n",
    "        PRESTO_FEAT = token.get('prpos')\n",
    "        function = token.get('function')\n",
    "        \n",
    "        form = form.lstrip(' —').rstrip(' ')\n",
    "        if UPOS!=\"PROPN\":\n",
    "            form = form.lower()\n",
    "        \n",
    "        # conversion POS PRESTO \n",
    "        if UPOS == 'AUX' or UPOS == 'VERB':\n",
    "            if PRESTO_FEAT == 'Ge' or PRESTO_FEAT == 'Ga':\n",
    "                PRESTO_POS = 'PAG'\n",
    "            else:\n",
    "                PRESTO_POS = 'VER'\n",
    "        else:\n",
    "            for POS in list_upos:\n",
    "                if UPOS == POS[0]:\n",
    "                    PRESTO_POS = POS[1]\n",
    "        \n",
    "        entry = form+'/'+PRESTO_POS+'/'+PRESTO_FEAT+'/'+lemma+'/'+UPOS+'/'+UPENN_POS\n",
    "        \n",
    "        # Vérifier si la ligne est déjà présente\n",
    "        if entry not in lines_set:\n",
    "            # Ajouter la ligne résultante à l'ensemble des lignes\n",
    "            lines_set.add(entry)\n",
    "           \n",
    "    l_dict = list(sorted(set(lines_set)))\n",
    "\n",
    "    # Écrire les lignes résultantes dans un fichier\n",
    "    with open(outputfile, 'w') as f:\n",
    "        for line in l_dict:\n",
    "            f.write(line + '\\n')"
   ]
  },
  {
   "cell_type": "code",
   "execution_count": 4,
   "id": "50e17270",
   "metadata": {},
   "outputs": [],
   "source": [
    "inputfile = '/home/ziane212/Téléchargements/Guernsey_Crime_I_2_lemma_presto_31.10.23_RevNR.xml'\n",
    "outputfile = '/home/ziane212/Téléchargements/Guernsey_Crime_I_2_lemma_presto_31.10.23_RevNR.dff'\n",
    "extract_dict(inputfile, outputfile)"
   ]
  }
 ],
 "metadata": {
  "kernelspec": {
   "display_name": "Python 3 (ipykernel)",
   "language": "python",
   "name": "python3"
  },
  "language_info": {
   "codemirror_mode": {
    "name": "ipython",
    "version": 3
   },
   "file_extension": ".py",
   "mimetype": "text/x-python",
   "name": "python",
   "nbconvert_exporter": "python",
   "pygments_lexer": "ipython3",
   "version": "3.10.9"
  }
 },
 "nbformat": 4,
 "nbformat_minor": 5
}
