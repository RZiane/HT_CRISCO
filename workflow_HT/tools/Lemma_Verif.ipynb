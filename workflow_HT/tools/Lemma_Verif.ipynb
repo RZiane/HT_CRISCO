{
 "cells": [
  {
   "cell_type": "code",
   "execution_count": 18,
   "metadata": {},
   "outputs": [],
   "source": [
    "#Script Python qui compare les lemmes et mots-formes, et sort un fichier précisant les éléments où ces valeurs commencent par des lettres différentes\n",
    "#Le script ignore les différentes de casse."
   ]
  },
  {
   "cell_type": "code",
   "execution_count": 19,
   "metadata": {
    "tags": []
   },
   "outputs": [],
   "source": [
    "#On renseigne les chemins des fichiers\n",
    "\n",
    "genre = \"x\"\n",
    "nom = \"x\"\n",
    "chemin = \"C:\\\\Users\\\\Mathieu-PC\\\\Desktop\\\\\"\n",
    "\n",
    "path_in = \"/home/ziane212/Téléchargements/1563_Guernesey_RevNR.xml\"\n",
    "path_out = \"/home/ziane212/Téléchargements/1563_Guernesey_RevNR_out.xml\"\n",
    "path_table = \"/home/ziane212/Téléchargements/1563_Guernesey_RevNR.txt\""
   ]
  },
  {
   "cell_type": "code",
   "execution_count": 20,
   "metadata": {
    "tags": []
   },
   "outputs": [],
   "source": [
    "from lxml import etree as ET\n",
    "import re\n",
    "\n",
    "liste = []\n",
    "\n",
    "    # On ouvre le fichier d'entrée\n",
    "    \n",
    "with open(path_in, encoding=\"utf8\") as xml:\n",
    "    \n",
    "    # On importe le XML-TEI d'entrée et on le lit.\n",
    "    tree = ET.parse(path_in)\n",
    "    root = tree.getroot()\n",
    "\n",
    "\n",
    "        #On boucle sur les balises w en reprenant la hiérarchie\n",
    "                       \n",
    "        # Book\n",
    "        \n",
    "    for book in root.findall('.//div[@type=\"book\"]'):\n",
    "        book_nb = book.get('n')\n",
    "            \n",
    "            # Chapter\n",
    "\n",
    "        for chapter in book.findall('.//div[@type=\"chapter\"]'):\n",
    "            chapter_nb = chapter.get('n')\n",
    "                \n",
    "                # Section\n",
    "\n",
    "            for section in chapter.findall('.//div[@type=\"section\"]'):\n",
    "                section_nb = section.get('n')\n",
    "                    \n",
    "                        #Para\n",
    "\n",
    "                for para in section.findall('.//p'):\n",
    "                    para_nb = para.get('n')\n",
    "                        \n",
    "                                #Sentence\n",
    "\n",
    "                    for sentence in para.findall('.//s'):\n",
    "                        sentence_nb = sentence.get('n')\n",
    "                        \n",
    "                            # Word. On récupère les attributs qui nous intéressent.\n",
    "                            \n",
    "                        for word in sentence.findall('.//w'):\n",
    "                            word_nb = word.get('n')\n",
    "                            word_lemma = word.get('lemma')\n",
    "                            word_token = word.text\n",
    "                            \n",
    "                            # On compare le mot-forme et le lemma, en ignorant la casse\n",
    "                            \n",
    "                            if word_lemma[0].lower() != word_token[0].lower():\n",
    "                                xpath = book_nb+'-'+chapter_nb+'-'+section_nb+'-'+para_nb+'-'+sentence_nb+'-'+word_nb\n",
    "                                comp = word_lemma + \"/\" + word_token\n",
    "                                comp_str = str(comp)\n",
    "                                xpath_str = str(xpath)\n",
    "                                word.set(\"incoherence\", \"yes\")\n",
    "                                liste.append(comp_str)\n",
    "                                \n",
    "#On écrit le fichier de sortie\n",
    "liste = list(sorted(set(liste)))     \n",
    "with open(path_table, 'w', encoding=\"utf8\") as out:\n",
    "    # out.write(\"Le lemme et le mot-forme commencent par des lettres différentes :\" + \"\\n\" + \"\\n\" + '\\n'.join(liste))\n",
    "    out.write('\\n'.join(liste))"
   ]
  },
  {
   "cell_type": "code",
   "execution_count": 21,
   "id": "717e13d0",
   "metadata": {},
   "outputs": [],
   "source": [
    "def indent(elem, level=0, more_sibs=False):\n",
    "    i = \"\\n\"\n",
    "    if level:\n",
    "        i += (level-1) * '\\t'\n",
    "    num_kids = len(elem)\n",
    "    if num_kids:\n",
    "        if not elem.text or not elem.text.strip():\n",
    "            elem.text = i + \"\\t\"\n",
    "            if level:\n",
    "                elem.text += '\\t'\n",
    "        count = 0\n",
    "        for kid in elem:\n",
    "            indent(kid, level+1, count < num_kids - 1)\n",
    "            count += 1\n",
    "        if not elem.tail or not elem.tail.strip():\n",
    "            elem.tail = i\n",
    "            if more_sibs:\n",
    "                elem.tail += '\\t'\n",
    "    else:\n",
    "        if level and (not elem.tail or not elem.tail.strip()):\n",
    "            elem.tail = i\n",
    "            if more_sibs:\n",
    "                elem.tail += '\\t'\n",
    "\n",
    "indent(root)\n",
    "#etree.dump(new_root)\n",
    "ET.ElementTree(root).write(path_out, encoding='utf-8')"
   ]
  },
  {
   "cell_type": "code",
   "execution_count": null,
   "id": "f46025ef",
   "metadata": {},
   "outputs": [],
   "source": []
  }
 ],
 "metadata": {
  "kernelspec": {
   "display_name": "Python 3",
   "language": "python",
   "name": "python3"
  },
  "language_info": {
   "codemirror_mode": {
    "name": "ipython",
    "version": 3
   },
   "file_extension": ".py",
   "mimetype": "text/x-python",
   "name": "python",
   "nbconvert_exporter": "python",
   "pygments_lexer": "ipython3",
   "version": "3.10.9"
  }
 },
 "nbformat": 4,
 "nbformat_minor": 5
}
